{
 "cells": [
  {
   "cell_type": "code",
   "execution_count": 2,
   "id": "9a8141a7-07d9-41e9-bf65-ae1b9392c474",
   "metadata": {},
   "outputs": [
    {
     "name": "stdin",
     "output_type": "stream",
     "text": [
      "enter your number 0\n"
     ]
    },
    {
     "name": "stdout",
     "output_type": "stream",
     "text": [
      "Cannot divide by zero\n",
      "code done\n"
     ]
    }
   ],
   "source": [
    "#Error handling\n",
    "\n",
    "try:\n",
    "    integer=int(input('enter your number :'))\n",
    "    result=10/integer\n",
    "except ZeroDivisionError:\n",
    "    print('Cannot divide by zero')\n",
    "else:\n",
    "    result=10/integer\n",
    "    print(result)\n",
    "finally:\n",
    "  print('code done')"
   ]
  },
  {
   "cell_type": "code",
   "execution_count": 4,
   "id": "4ad2607c-7980-400a-814d-c2292d3ceff0",
   "metadata": {},
   "outputs": [
    {
     "name": "stdin",
     "output_type": "stream",
     "text": [
      "Enter input Hello\n"
     ]
    },
    {
     "name": "stdout",
     "output_type": "stream",
     "text": [
      "Cannot be converted into an integer\n",
      "Execution complete\n"
     ]
    }
   ],
   "source": [
    "try:\n",
    "  c=input('Enter input')\n",
    "  int(c)\n",
    "except ValueError:\n",
    "  print('Cannot be converted into an integer')\n",
    "else:\n",
    "  print(c)\n",
    "finally:\n",
    "  print('Execution complete')\n"
   ]
  },
  {
   "cell_type": "code",
   "execution_count": 6,
   "id": "00fe44aa-b6ec-443c-b6ab-ed8d2819120a",
   "metadata": {},
   "outputs": [
    {
     "name": "stdin",
     "output_type": "stream",
     "text": [
      "enter your number 2\n"
     ]
    },
    {
     "name": "stdout",
     "output_type": "stream",
     "text": [
      "5.0\n",
      "code done\n"
     ]
    }
   ],
   "source": [
    "try:\n",
    "    integer=int(input('enter your number'))\n",
    "    result=10/integer\n",
    "except (ZeroDivisionError,ValueError) as e:\n",
    "    print(f'An error occured: {e}')\n",
    "else:\n",
    "    result=10/integer\n",
    "    print(result)\n",
    "finally:\n",
    "  print('code done')"
   ]
  },
  {
   "cell_type": "code",
   "execution_count": null,
   "id": "b73420e3-79bf-472b-b8f4-19a7e98d547c",
   "metadata": {},
   "outputs": [],
   "source": [
    "#numbers=[10,20,30,0,40,0,50,60]\n",
    "#for num in numbers:\n",
    "#  a=100/num\n",
    " # print(a)\n",
    "\n",
    "\n",
    " #WILL GIVE ERROR(ZERO DIVISION ERROR)"
   ]
  },
  {
   "cell_type": "code",
   "execution_count": null,
   "id": "788a00e0-3e6b-4cbc-ac11-5f54bf62c320",
   "metadata": {},
   "outputs": [],
   "source": [
    "numbers=[10,20,30,0,40,0,50,60]\n",
    "for num in numbers:\n",
    "  try:\n",
    "      a=100/num\n",
    "      print(a)\n",
    "  except ZeroDivisionError:\n",
    "    print('cannot divide by zero')\n"
   ]
  }
 ],
 "metadata": {
  "kernelspec": {
   "display_name": "Python 3 (ipykernel)",
   "language": "python",
   "name": "python3"
  },
  "language_info": {
   "codemirror_mode": {
    "name": "ipython",
    "version": 3
   },
   "file_extension": ".py",
   "mimetype": "text/x-python",
   "name": "python",
   "nbconvert_exporter": "python",
   "pygments_lexer": "ipython3",
   "version": "3.10.11"
  }
 },
 "nbformat": 4,
 "nbformat_minor": 5
}
